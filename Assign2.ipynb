{
 "cells": [
  {
   "cell_type": "code",
   "execution_count": 1,
   "id": "15b21572-0eea-487a-af16-8368571b2438",
   "metadata": {},
   "outputs": [
    {
     "data": {
      "text/plain": [
       "'\\nPython provides an in-built feature called\\ndocstrings for commenting on modules, \\nmethods, functions, objects, and classes. \\nThey are written in the first line after defining a module, \\nfunction, method, etc.,\\nusing three quotation marks (‘’ or “”). \\n'"
      ]
     },
     "execution_count": 1,
     "metadata": {},
     "output_type": "execute_result"
    }
   ],
   "source": [
    "# Q1\n",
    "# There are three types of comments\n",
    "# Single Line\n",
    "# Multi Line\n",
    "# DocString comments\n",
    "\n",
    "# Single Line\n",
    "# These are denoted by # symbol\n",
    "\n",
    "#Multiline Comments\n",
    "''' This is an \n",
    "example of a\n",
    "multiline comment\n",
    "'''\n",
    "\n",
    "\"\"\"\n",
    "This is also an \n",
    "example of a \n",
    "multiline comment\n",
    "\"\"\"\n",
    "\n",
    "# Docstring Comments\n",
    "'''\n",
    "Python provides an in-built feature called\n",
    "docstrings for commenting on modules, \n",
    "methods, functions, objects, and classes. \n",
    "They are written in the first line after defining a module, \n",
    "function, method, etc.,\n",
    "using three quotation marks (‘’ or “”). \n",
    "'''"
   ]
  },
  {
   "cell_type": "code",
   "execution_count": 2,
   "id": "a9bcefd8-8303-442d-a53d-505e2be3dd3f",
   "metadata": {},
   "outputs": [
    {
     "name": "stdout",
     "output_type": "stream",
     "text": [
      "<class 'int'>\n"
     ]
    },
    {
     "data": {
      "text/plain": [
       "9"
      ]
     },
     "execution_count": 2,
     "metadata": {},
     "output_type": "execute_result"
    }
   ],
   "source": [
    "#Q2\n",
    "'''\n",
    "Python variable is stores the memory location of the object created\n",
    "it is the basic unit of storing data\n",
    "'''\n",
    "# Declaring Variables\n",
    "var= 9\n",
    "print(type(var))\n",
    "var"
   ]
  },
  {
   "cell_type": "code",
   "execution_count": 1,
   "id": "dabb9bc5-c7f9-49bd-b613-882bb7b5cd9e",
   "metadata": {},
   "outputs": [
    {
     "name": "stdout",
     "output_type": "stream",
     "text": [
      "1\n",
      "10\n"
     ]
    }
   ],
   "source": [
    "#Q3\n",
    "'''\n",
    "You can convert one data type to another by type conversion \n",
    "functions this is also called typecasting\n",
    "'''\n",
    "a =1.3\n",
    "a= int(a)\n",
    "print(a)\n",
    "b = '10'\n",
    "b = int(b)\n",
    "print(b)"
   ]
  },
  {
   "cell_type": "code",
   "execution_count": null,
   "id": "9fe46a7c-3849-426c-81dd-190a828d5365",
   "metadata": {},
   "outputs": [],
   "source": [
    "#"
   ]
  },
  {
   "cell_type": "code",
   "execution_count": 3,
   "id": "7cbd63f0-991d-4ed9-871d-46fb433f89ea",
   "metadata": {},
   "outputs": [
    {
     "data": {
      "text/plain": [
       "[2, 3]"
      ]
     },
     "execution_count": 3,
     "metadata": {},
     "output_type": "execute_result"
    }
   ],
   "source": [
    "#Q5\n",
    "my_list = [1,2,3,4,5]\n",
    "sub_list = my_list[1:3]\n",
    "sub_list"
   ]
  },
  {
   "cell_type": "code",
   "execution_count": 4,
   "id": "07c5f74e-c62c-477d-acf4-e242795e7311",
   "metadata": {},
   "outputs": [
    {
     "name": "stdout",
     "output_type": "stream",
     "text": [
      "2.0\n",
      "4.0\n"
     ]
    }
   ],
   "source": [
    "#Q6\n",
    "'''\n",
    "A complex number \n",
    "consists of two parts \n",
    "real and imaginery\n",
    "represented by real +  (imaginery)\n",
    "'''\n",
    "c = 2+4j\n",
    "print(c.real)\n",
    "print(c.imag)\n"
   ]
  },
  {
   "cell_type": "code",
   "execution_count": 5,
   "id": "91c6efed-8bfd-469a-9961-c30878d6e0fc",
   "metadata": {},
   "outputs": [
    {
     "name": "stdout",
     "output_type": "stream",
     "text": [
      "25\n"
     ]
    }
   ],
   "source": [
    "#Q7\n",
    "'''\n",
    "A variable name must start with a letter or the underscore character\n",
    "A variable name cannot start with a number\n",
    "A variable name can only contain alpha-numeric characters and underscores (A-z, 0-9, and _ )\n",
    "Variable names are case-sensitive (age, Age and AGE are three different variables)\n",
    "'''\n",
    "age = 25\n",
    "print(age)"
   ]
  },
  {
   "cell_type": "code",
   "execution_count": 6,
   "id": "c0c35d71-5882-4682-a322-bbe181d55c2c",
   "metadata": {},
   "outputs": [
    {
     "name": "stdout",
     "output_type": "stream",
     "text": [
      "<class 'float'>\n"
     ]
    }
   ],
   "source": [
    "#Q8\n",
    "price = 9.99\n",
    "print(type(price))"
   ]
  },
  {
   "cell_type": "code",
   "execution_count": 7,
   "id": "a8e0b18c-5808-4469-956d-1a743a2739c7",
   "metadata": {},
   "outputs": [
    {
     "name": "stdout",
     "output_type": "stream",
     "text": [
      "Siddh Manek\n"
     ]
    }
   ],
   "source": [
    "#Q9\n",
    "name = 'Siddh Manek'\n",
    "print(name)"
   ]
  },
  {
   "cell_type": "code",
   "execution_count": 8,
   "id": "9a0c51d4-f179-415c-b9e9-561639294a77",
   "metadata": {},
   "outputs": [],
   "source": [
    "#Q10\n",
    "s ='Hello,World!'"
   ]
  },
  {
   "cell_type": "code",
   "execution_count": 13,
   "id": "cf9bc3ef-e44e-423e-8cb1-ea8d4ea96690",
   "metadata": {},
   "outputs": [],
   "source": [
    "begin=s.find('World')"
   ]
  },
  {
   "cell_type": "code",
   "execution_count": 14,
   "id": "3d1183b3-a5b7-4094-8c71-4cf4a1491a40",
   "metadata": {},
   "outputs": [],
   "source": [
    "end = s.find('!')"
   ]
  },
  {
   "cell_type": "code",
   "execution_count": 15,
   "id": "756bd5f8-25b6-4ebb-a89c-fba654c7d43c",
   "metadata": {},
   "outputs": [],
   "source": [
    "extract = s[begin:end]"
   ]
  },
  {
   "cell_type": "code",
   "execution_count": 16,
   "id": "91350b0e-282d-499e-a71f-a39aba2072d0",
   "metadata": {},
   "outputs": [
    {
     "data": {
      "text/plain": [
       "'World'"
      ]
     },
     "execution_count": 16,
     "metadata": {},
     "output_type": "execute_result"
    }
   ],
   "source": [
    "extract"
   ]
  },
  {
   "cell_type": "code",
   "execution_count": 19,
   "id": "bec8a744-7bb6-41fe-a4ad-4a88c3a8cbaa",
   "metadata": {},
   "outputs": [],
   "source": [
    "#Q11\n",
    "is_student = True"
   ]
  },
  {
   "cell_type": "code",
   "execution_count": 20,
   "id": "6ba1b032-fa09-4246-ac34-0c79f89ad3b7",
   "metadata": {},
   "outputs": [
    {
     "data": {
      "text/plain": [
       "True"
      ]
     },
     "execution_count": 20,
     "metadata": {},
     "output_type": "execute_result"
    }
   ],
   "source": [
    "is_student"
   ]
  },
  {
   "cell_type": "code",
   "execution_count": null,
   "id": "c78990b9-8af9-44d1-94ac-f4cd1e1c4baf",
   "metadata": {},
   "outputs": [],
   "source": []
  }
 ],
 "metadata": {
  "kernelspec": {
   "display_name": "Python 3 (ipykernel)",
   "language": "python",
   "name": "python3"
  },
  "language_info": {
   "codemirror_mode": {
    "name": "ipython",
    "version": 3
   },
   "file_extension": ".py",
   "mimetype": "text/x-python",
   "name": "python",
   "nbconvert_exporter": "python",
   "pygments_lexer": "ipython3",
   "version": "3.10.8"
  }
 },
 "nbformat": 4,
 "nbformat_minor": 5
}
