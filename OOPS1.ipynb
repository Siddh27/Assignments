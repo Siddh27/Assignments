{
 "cells": [
  {
   "cell_type": "code",
   "execution_count": 1,
   "id": "17e8c416-39c1-44c3-9378-abac0318465f",
   "metadata": {},
   "outputs": [
    {
     "data": {
      "text/plain": [
       "'\\nwhen a class is created no memory is allocated but there\\nis memory allocation when an object is created \\n'"
      ]
     },
     "execution_count": 1,
     "metadata": {},
     "output_type": "execute_result"
    }
   ],
   "source": [
    "#Q1\n",
    "'''\n",
    "A class is a template consists of methods and attributes\n",
    "it is used to combine data with methods together and any object\n",
    "created of a particular class will have those attributes and \n",
    "member functions\n",
    "'''\n",
    "'''\n",
    "An object is an instantiation of a class,every object \n",
    "can have different values to the attributes and each object is \n",
    "different from each other\n",
    "'''\n",
    "'''\n",
    "when a class is created no memory is allocated but there\n",
    "is memory allocation when an object is created \n",
    "'''"
   ]
  },
  {
   "cell_type": "code",
   "execution_count": 4,
   "id": "8207e91b-1e11-4e55-8350-b26e9d82e33b",
   "metadata": {},
   "outputs": [],
   "source": [
    "class student:\n",
    "    def __init__(self,name,age,number):\n",
    "        self.name=name\n",
    "        self.age=age\n",
    "        self.number = number\n",
    "    def printDetails(self):\n",
    "        print(\"The name of this student is\",self.name,\"the age of this student is\",self.age,\"the number of this student is\",self.number)"
   ]
  },
  {
   "cell_type": "code",
   "execution_count": 7,
   "id": "1e2bf63b-178b-42e9-bad4-c8cee3dd031d",
   "metadata": {},
   "outputs": [],
   "source": [
    "s1=student(\"Siddh\",20,1234)"
   ]
  },
  {
   "cell_type": "code",
   "execution_count": 8,
   "id": "0b776a8e-019c-4765-9b74-3f4d22ad9332",
   "metadata": {},
   "outputs": [
    {
     "name": "stdout",
     "output_type": "stream",
     "text": [
      "The name of this student is Siddh the age of this student is 20 the number of this student is 1234\n"
     ]
    }
   ],
   "source": [
    "s1.printDetails()"
   ]
  },
  {
   "cell_type": "code",
   "execution_count": 10,
   "id": "95f22e9c-aa63-49fe-9bca-f67792e8e0ba",
   "metadata": {},
   "outputs": [
    {
     "data": {
      "text/plain": [
       "'\\nThe 4 pillars of OOPs are\\n1) Encapsulation\\n2) Inheritance\\n3) Abstraction\\n4) Polymorphism\\n'"
      ]
     },
     "execution_count": 10,
     "metadata": {},
     "output_type": "execute_result"
    }
   ],
   "source": [
    "#Q2\n",
    "'''\n",
    "The 4 pillars of OOPs are\n",
    "1) Encapsulation\n",
    "2) Inheritance\n",
    "3) Abstraction\n",
    "4) Polymorphism\n",
    "'''"
   ]
  },
  {
   "cell_type": "code",
   "execution_count": 12,
   "id": "498430cf-5bb9-4df2-b009-22c2ced3006d",
   "metadata": {},
   "outputs": [
    {
     "data": {
      "text/plain": [
       "'\\n__init__() function is called constructor \\nit is to create an object of the class\\nwe pass data/object as parameters to the constructor \\nand it assigns those values to the object attributes\\nwhen we create an object always the constuctor is called first\\nI have already shown example of constructor in Q1\\n'"
      ]
     },
     "execution_count": 12,
     "metadata": {},
     "output_type": "execute_result"
    }
   ],
   "source": [
    "#Q3\n",
    "'''\n",
    "__init__() function is called constructor \n",
    "it is to create an object of the class\n",
    "we pass data/object as parameters to the constructor \n",
    "and it assigns those values to the object attributes\n",
    "when we create an object always the constuctor is called first\n",
    "I have already shown example of constructor in Q1\n",
    "'''"
   ]
  },
  {
   "cell_type": "code",
   "execution_count": 13,
   "id": "08b92346-1174-4aad-ae27-5df833690216",
   "metadata": {},
   "outputs": [
    {
     "data": {
      "text/plain": [
       "'\\nself is used to refer to specfic object attributes \\ninside the class\\nit is also used as the first parameter in a function inside the\\nclass to declare that the respective function is a method of that\\nclass\\n'"
      ]
     },
     "execution_count": 13,
     "metadata": {},
     "output_type": "execute_result"
    }
   ],
   "source": [
    "#Q4\n",
    "'''\n",
    "self is used to refer to specfic object attributes \n",
    "inside the class\n",
    "it is also used as the first parameter in a function inside the\n",
    "class to declare that the respective function is a method of that\n",
    "class\n",
    "'''"
   ]
  },
  {
   "cell_type": "code",
   "execution_count": 1,
   "id": "154c3eaf-6341-4815-a05d-88d71477a5d7",
   "metadata": {},
   "outputs": [
    {
     "data": {
      "text/plain": [
       "'\\nWhen a child class inherits a parent class\\nit inherits the same attributes and mehtods of the parent class\\nthen one can also add additional indivisual attributes and methods of the \\nto the child class\\n'"
      ]
     },
     "execution_count": 1,
     "metadata": {},
     "output_type": "execute_result"
    }
   ],
   "source": [
    "#Q5\n",
    "'''\n",
    "When a child class inherits a parent class\n",
    "it inherits the same attributes and mehtods of the parent class\n",
    "then one can also add additional indivisual attributes and methods of the \n",
    "to the child class\n",
    "'''"
   ]
  },
  {
   "cell_type": "code",
   "execution_count": 17,
   "id": "38e9f24f-5dee-42a2-a506-ac32507a60bc",
   "metadata": {},
   "outputs": [],
   "source": [
    "# single inheritance\n",
    "class Parent():\n",
    "    def __init__(self,a,b):\n",
    "        self.a=a\n",
    "        self.b=b\n",
    "    def show(self):\n",
    "        print('value of a is',self.a,'and b is',self.b)\n",
    "\n",
    "class Child(Parent):\n",
    "    def __init__(self,a,b,c):\n",
    "        Parent.__init__(self,a,b)\n",
    "        self.c=c\n",
    "    def show(self):\n",
    "        print('value of a is',self.a,'and b is',self.b,'and c is',self.c)"
   ]
  },
  {
   "cell_type": "code",
   "execution_count": 18,
   "id": "ee3c45ab-2bab-4388-8870-98e4911a0787",
   "metadata": {},
   "outputs": [
    {
     "name": "stdout",
     "output_type": "stream",
     "text": [
      "value of a is 1 and b is 2\n",
      "value of a is 1 and b is 2 and c is 3\n"
     ]
    }
   ],
   "source": [
    "p=Parent(1,2)\n",
    "p.show()\n",
    "c=Child(1,2,3)\n",
    "c.show()"
   ]
  },
  {
   "cell_type": "code",
   "execution_count": 19,
   "id": "f66214e8-f2a3-4ddd-936a-1b0579d6d4f5",
   "metadata": {},
   "outputs": [
    {
     "name": "stdout",
     "output_type": "stream",
     "text": [
      "This is a method of class a\n",
      "This is a method of class b\n",
      "This is a method of class c\n"
     ]
    }
   ],
   "source": [
    "#multiple  inheritence\n",
    "class a():\n",
    "    def method_a():\n",
    "        print(\"This is a method of class a\")\n",
    "class b():\n",
    "    def method_b():\n",
    "        print(\"This is a method of class b\")\n",
    "        \n",
    "class c(a,b):\n",
    "    def method_c():\n",
    "        print(\"This is a method of class c\")\n",
    "var = c()\n",
    "c.method_a()\n",
    "c.method_b()\n",
    "c.method_c()"
   ]
  },
  {
   "cell_type": "code",
   "execution_count": 21,
   "id": "a7d62b88-5431-4a3a-a541-4fe8f4bc19da",
   "metadata": {},
   "outputs": [
    {
     "name": "stdout",
     "output_type": "stream",
     "text": [
      "This is a method of class a\n",
      "This is a method of class b\n",
      "This is a method of class c\n"
     ]
    }
   ],
   "source": [
    "# multilevel inheritance\n",
    "class a():\n",
    "    def method_a():\n",
    "        print(\"This is a method of class a\")\n",
    "class b(a):\n",
    "    def method_b():\n",
    "        print(\"This is a method of class b\")\n",
    "        \n",
    "class c(b):\n",
    "    def method_c():\n",
    "        print(\"This is a method of class c\")\n",
    "var = c()\n",
    "c.method_a()\n",
    "c.method_b()\n",
    "c.method_c()"
   ]
  },
  {
   "cell_type": "code",
   "execution_count": null,
   "id": "f9b92e8e-fc35-48ef-9eae-8494ac727d6e",
   "metadata": {},
   "outputs": [],
   "source": []
  }
 ],
 "metadata": {
  "kernelspec": {
   "display_name": "Python 3 (ipykernel)",
   "language": "python",
   "name": "python3"
  },
  "language_info": {
   "codemirror_mode": {
    "name": "ipython",
    "version": 3
   },
   "file_extension": ".py",
   "mimetype": "text/x-python",
   "name": "python",
   "nbconvert_exporter": "python",
   "pygments_lexer": "ipython3",
   "version": "3.10.8"
  }
 },
 "nbformat": 4,
 "nbformat_minor": 5
}
