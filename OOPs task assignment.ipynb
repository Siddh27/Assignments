{
 "cells": [
  {
   "cell_type": "code",
   "execution_count": 1,
   "id": "63d4b7cf-4318-4bf8-9fdc-e7dec7376389",
   "metadata": {},
   "outputs": [],
   "source": [
    "#Q1\n",
    "class vehicle():\n",
    "    def __init__(self,name,maxSpeed,average):\n",
    "        self.name_of_vehicle=name\n",
    "        self.max_speed=maxSpeed\n",
    "        self.average_of_vehicle=average"
   ]
  },
  {
   "cell_type": "code",
   "execution_count": 2,
   "id": "ff693a7c-371d-4e5a-a20d-2b1d08973abb",
   "metadata": {},
   "outputs": [],
   "source": [
    "v = vehicle('lambhorghini',221,7.3)"
   ]
  },
  {
   "cell_type": "code",
   "execution_count": 3,
   "id": "f0bec1c0-d7e8-45de-bb40-164eba99cc45",
   "metadata": {},
   "outputs": [
    {
     "data": {
      "text/plain": [
       "7.3"
      ]
     },
     "execution_count": 3,
     "metadata": {},
     "output_type": "execute_result"
    }
   ],
   "source": [
    "v.average_of_vehicle"
   ]
  },
  {
   "cell_type": "code",
   "execution_count": 4,
   "id": "d97ba630-5060-47e5-af01-31b57cd599e6",
   "metadata": {},
   "outputs": [
    {
     "data": {
      "text/plain": [
       "221"
      ]
     },
     "execution_count": 4,
     "metadata": {},
     "output_type": "execute_result"
    }
   ],
   "source": [
    "v.max_speed"
   ]
  },
  {
   "cell_type": "code",
   "execution_count": 5,
   "id": "e47dac03-7ead-42f0-a016-d4196b1c4037",
   "metadata": {},
   "outputs": [
    {
     "data": {
      "text/plain": [
       "'lambhorghini'"
      ]
     },
     "execution_count": 5,
     "metadata": {},
     "output_type": "execute_result"
    }
   ],
   "source": [
    "v.name_of_vehicle"
   ]
  },
  {
   "cell_type": "code",
   "execution_count": 6,
   "id": "a66448ac-a0f6-4df2-b36b-15fea9e2a35c",
   "metadata": {},
   "outputs": [],
   "source": [
    "#Q2\n",
    "class car(vehicle):\n",
    "    def seating_capacity(self,capacity):\n",
    "        return self.name_of_vehicle,capacity"
   ]
  },
  {
   "cell_type": "code",
   "execution_count": 8,
   "id": "a7ab904c-53da-4e76-bfc3-d6a4e1dbeac7",
   "metadata": {},
   "outputs": [],
   "source": [
    "c = car('lambhorghini',221,7.3)"
   ]
  },
  {
   "cell_type": "code",
   "execution_count": 9,
   "id": "f0484214-0629-4d0b-9b53-22fa9470619c",
   "metadata": {},
   "outputs": [
    {
     "data": {
      "text/plain": [
       "7.3"
      ]
     },
     "execution_count": 9,
     "metadata": {},
     "output_type": "execute_result"
    }
   ],
   "source": [
    "c.average_of_vehicle"
   ]
  },
  {
   "cell_type": "code",
   "execution_count": 10,
   "id": "8a24f118-7468-4011-838b-779f93c21391",
   "metadata": {},
   "outputs": [
    {
     "data": {
      "text/plain": [
       "221"
      ]
     },
     "execution_count": 10,
     "metadata": {},
     "output_type": "execute_result"
    }
   ],
   "source": [
    "c.max_speed"
   ]
  },
  {
   "cell_type": "code",
   "execution_count": 11,
   "id": "97af2773-2725-4c75-9912-91cc877a83be",
   "metadata": {},
   "outputs": [
    {
     "data": {
      "text/plain": [
       "'lambhorghini'"
      ]
     },
     "execution_count": 11,
     "metadata": {},
     "output_type": "execute_result"
    }
   ],
   "source": [
    "c.name_of_vehicle"
   ]
  },
  {
   "cell_type": "code",
   "execution_count": 12,
   "id": "1bcf3d55-0158-4d0a-9b56-85262ff5e33f",
   "metadata": {},
   "outputs": [
    {
     "data": {
      "text/plain": [
       "('lambhorghini', 2)"
      ]
     },
     "execution_count": 12,
     "metadata": {},
     "output_type": "execute_result"
    }
   ],
   "source": [
    "c.seating_capacity(2)"
   ]
  },
  {
   "cell_type": "code",
   "execution_count": 15,
   "id": "2803f208-bb7f-40e1-b147-4db389be14d1",
   "metadata": {},
   "outputs": [
    {
     "name": "stdout",
     "output_type": "stream",
     "text": [
      "This is a method of class a\n",
      "This is a method of class b\n",
      "This is a method of class c\n"
     ]
    }
   ],
   "source": [
    "#Q3\n",
    "'''\n",
    "When a class is derived from more than one base class \n",
    "it is called multiple Inheritance. \n",
    "The derived class inherits all the features of the \n",
    "base class.\n",
    "'''\n",
    "class a():\n",
    "    def method_a():\n",
    "        print(\"This is a method of class a\")\n",
    "class b():\n",
    "    def method_b():\n",
    "        print(\"This is a method of class b\")\n",
    "        \n",
    "class c(a,b):\n",
    "    def method_c():\n",
    "        print(\"This is a method of class c\")\n",
    "var = c()\n",
    "c.method_a()\n",
    "c.method_b()\n",
    "c.method_c()"
   ]
  },
  {
   "cell_type": "code",
   "execution_count": 9,
   "id": "af0e0861-1c1a-497a-9900-72b54925dbe7",
   "metadata": {},
   "outputs": [],
   "source": [
    "#Q4\n",
    "'''\n",
    "Getter: A method that allows you to access an \n",
    "attribute in a given class. \n",
    "Setter:\n",
    "A method that allows you to set or mutate the value\n",
    "of an attribute in a class.\n",
    "'''\n",
    "class student():\n",
    "    def __init__(self,name,age):\n",
    "        self.__name=name\n",
    "        self.__age=age\n",
    "    def set_age(self,age):\n",
    "        self.__age=age\n",
    "        \n",
    "    def set_name(self,name):\n",
    "        self.__name=name\n",
    "        \n",
    "    def get_age(self):\n",
    "        return self.__age\n",
    "    def get_name(self):\n",
    "        return self.__name"
   ]
  },
  {
   "cell_type": "code",
   "execution_count": 10,
   "id": "1962b48a-e61d-4f81-a24c-4f7f2621592d",
   "metadata": {},
   "outputs": [],
   "source": [
    "s= student('s',19)"
   ]
  },
  {
   "cell_type": "code",
   "execution_count": 11,
   "id": "feb2e6bb-6114-4f66-accc-423f5e5b4d4e",
   "metadata": {},
   "outputs": [
    {
     "ename": "AttributeError",
     "evalue": "'student' object has no attribute 'name'",
     "output_type": "error",
     "traceback": [
      "\u001b[0;31m---------------------------------------------------------------------------\u001b[0m",
      "\u001b[0;31mAttributeError\u001b[0m                            Traceback (most recent call last)",
      "Cell \u001b[0;32mIn[11], line 1\u001b[0m\n\u001b[0;32m----> 1\u001b[0m \u001b[43ms\u001b[49m\u001b[38;5;241;43m.\u001b[39;49m\u001b[43mname\u001b[49m\n",
      "\u001b[0;31mAttributeError\u001b[0m: 'student' object has no attribute 'name'"
     ]
    }
   ],
   "source": [
    "s.name"
   ]
  },
  {
   "cell_type": "code",
   "execution_count": 12,
   "id": "f0f77ed1-14cc-4128-b86a-697152f4d4db",
   "metadata": {},
   "outputs": [],
   "source": [
    "s.set_name('Siddh')"
   ]
  },
  {
   "cell_type": "code",
   "execution_count": 16,
   "id": "d1d91651-9317-49d0-9e36-234bcb5ad473",
   "metadata": {},
   "outputs": [],
   "source": [
    "s.set_age(20)"
   ]
  },
  {
   "cell_type": "code",
   "execution_count": 14,
   "id": "36a4082b-0fa1-4b89-bcfa-a4bd449198d1",
   "metadata": {},
   "outputs": [
    {
     "data": {
      "text/plain": [
       "'Siddh'"
      ]
     },
     "execution_count": 14,
     "metadata": {},
     "output_type": "execute_result"
    }
   ],
   "source": [
    "s.get_name()"
   ]
  },
  {
   "cell_type": "code",
   "execution_count": 17,
   "id": "3030e5ba-2cc9-4f7b-8917-d633c61e512e",
   "metadata": {},
   "outputs": [
    {
     "data": {
      "text/plain": [
       "20"
      ]
     },
     "execution_count": 17,
     "metadata": {},
     "output_type": "execute_result"
    }
   ],
   "source": [
    "s.get_age()"
   ]
  },
  {
   "cell_type": "code",
   "execution_count": 18,
   "id": "6219f948-fa3e-4437-a3c2-a32a81add747",
   "metadata": {},
   "outputs": [],
   "source": [
    "#Q5\n",
    "'''\n",
    "Method overriding is an ability of any object-oriented programming language\n",
    "that allows a subclass or child class \n",
    "to provide a specific implementation of a method that is already provided by\n",
    "one of its super-classes or parent classes.\n",
    "When a method in a subclass has the same name, same parameters or signature and \n",
    "same return type(or sub-type) as a method\n",
    "in its super-class, then the method in the subclass is said to override the \n",
    "method in the super-class.\n",
    "'''\n",
    "class Parent():\n",
    "    def show(self):\n",
    "        print(\"Method of Parent executed\")\n",
    "class Child(Parent):\n",
    "    def show(self):\n",
    "        print(\"Method of Child executed\")"
   ]
  },
  {
   "cell_type": "code",
   "execution_count": 19,
   "id": "c22593b1-311c-4baf-bf5a-41b9fda14a7f",
   "metadata": {},
   "outputs": [
    {
     "name": "stdout",
     "output_type": "stream",
     "text": [
      "Method of Parent executed\n",
      "Method of Child executed\n"
     ]
    }
   ],
   "source": [
    "p = Parent()\n",
    "c = Child()\n",
    "p.show()\n",
    "c.show()"
   ]
  },
  {
   "cell_type": "code",
   "execution_count": null,
   "id": "4f7bb34f-c013-4288-ab65-38cff80c5d66",
   "metadata": {},
   "outputs": [],
   "source": []
  }
 ],
 "metadata": {
  "kernelspec": {
   "display_name": "Python 3 (ipykernel)",
   "language": "python",
   "name": "python3"
  },
  "language_info": {
   "codemirror_mode": {
    "name": "ipython",
    "version": 3
   },
   "file_extension": ".py",
   "mimetype": "text/x-python",
   "name": "python",
   "nbconvert_exporter": "python",
   "pygments_lexer": "ipython3",
   "version": "3.10.8"
  }
 },
 "nbformat": 4,
 "nbformat_minor": 5
}
