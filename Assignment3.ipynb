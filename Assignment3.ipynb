{
 "cells": [
  {
   "cell_type": "code",
   "execution_count": 5,
   "id": "9a032f36-2f7a-435a-bff3-1f053222e987",
   "metadata": {},
   "outputs": [],
   "source": [
    "#Q1\n",
    "def func():\n",
    "    l = []\n",
    "    for i in range(1,26):\n",
    "        if i%2!=0:\n",
    "            l.append(i)\n",
    "    return l"
   ]
  },
  {
   "cell_type": "code",
   "execution_count": 6,
   "id": "7b7b6c7d-d3db-4da2-883b-031644486915",
   "metadata": {},
   "outputs": [],
   "source": [
    "l = func()"
   ]
  },
  {
   "cell_type": "code",
   "execution_count": 7,
   "id": "b67de31a-b07e-460d-89dc-5efb97c2c79a",
   "metadata": {},
   "outputs": [
    {
     "data": {
      "text/plain": [
       "[1, 3, 5, 7, 9, 11, 13, 15, 17, 19, 21, 23, 25]"
      ]
     },
     "execution_count": 7,
     "metadata": {},
     "output_type": "execute_result"
    }
   ],
   "source": [
    "l"
   ]
  },
  {
   "cell_type": "code",
   "execution_count": 70,
   "id": "cd2a05c1-958a-4320-ba1f-3fb3b68da4f8",
   "metadata": {},
   "outputs": [],
   "source": [
    "#Q2\n",
    "'''\n",
    "**args\n",
    "you can pass n number of argument in a function\n",
    "it will store those arguments in tuple\n",
    "'''\n",
    "def test(*args):\n",
    "    sum=0\n",
    "    for i in args:\n",
    "        sum+=i\n",
    "    return sum,args\n",
    "'''\n",
    "**kwargs\n",
    "This is when we want to pass key-value pairs as parameters \n",
    "it will store them in a dictionary\n",
    "'''\n",
    "\n",
    "def test2(**kwargs):\n",
    "    return kwargs"
   ]
  },
  {
   "cell_type": "code",
   "execution_count": 71,
   "id": "2bc3b3a7-b30c-42e2-83de-5462c9e718d6",
   "metadata": {},
   "outputs": [
    {
     "data": {
      "text/plain": [
       "(15, (1, 2, 3, 4, 5))"
      ]
     },
     "execution_count": 71,
     "metadata": {},
     "output_type": "execute_result"
    }
   ],
   "source": [
    "test(1,2,3,4,5)"
   ]
  },
  {
   "cell_type": "code",
   "execution_count": 72,
   "id": "d34712dd-6c7b-4190-8e0b-a12a5da19cd3",
   "metadata": {},
   "outputs": [
    {
     "data": {
      "text/plain": [
       "tuple"
      ]
     },
     "execution_count": 72,
     "metadata": {},
     "output_type": "execute_result"
    }
   ],
   "source": [
    "type(test(1,2,3,4,5))"
   ]
  },
  {
   "cell_type": "code",
   "execution_count": 74,
   "id": "d7fee1b9-ceac-44a7-94af-f8965f62f259",
   "metadata": {},
   "outputs": [
    {
     "data": {
      "text/plain": [
       "{'name': 'Siddh', 'isStudent': True, 'Number': 123456}"
      ]
     },
     "execution_count": 74,
     "metadata": {},
     "output_type": "execute_result"
    }
   ],
   "source": [
    "ans=test2(name='Siddh',isStudent=True,Number=123456)\n",
    "ans"
   ]
  },
  {
   "cell_type": "code",
   "execution_count": 75,
   "id": "eab963cf-1838-4d29-b633-69562271b544",
   "metadata": {},
   "outputs": [
    {
     "data": {
      "text/plain": [
       "dict"
      ]
     },
     "execution_count": 75,
     "metadata": {},
     "output_type": "execute_result"
    }
   ],
   "source": [
    "type(ans)"
   ]
  },
  {
   "cell_type": "code",
   "execution_count": 1,
   "id": "87c7f9aa-4183-4b07-99a8-f5040297ed37",
   "metadata": {},
   "outputs": [],
   "source": [
    "#Q3\n",
    "'''\n",
    "An iterator is used to iterate(traverse) over\n",
    "iterable objects/data types such as strings,lists,tuples\n",
    "etc\n",
    "we use the iter() method to initialize an iterator and pass the iterable\n",
    "object as a parameter\n",
    "We use the next() method to traverse to the next element\n",
    "'''\n",
    "l=[2, 4, 6, 8, 10, 12, 14,16, 18, 20]"
   ]
  },
  {
   "cell_type": "code",
   "execution_count": 8,
   "id": "69f3e317-2633-4c32-bfed-1d4fef6c2542",
   "metadata": {},
   "outputs": [],
   "source": [
    "it = iter(l)"
   ]
  },
  {
   "cell_type": "code",
   "execution_count": 9,
   "id": "acce4d66-c37e-4961-9b66-d704de0ed06f",
   "metadata": {},
   "outputs": [
    {
     "data": {
      "text/plain": [
       "list_iterator"
      ]
     },
     "execution_count": 9,
     "metadata": {},
     "output_type": "execute_result"
    }
   ],
   "source": [
    "type(it)"
   ]
  },
  {
   "cell_type": "code",
   "execution_count": 10,
   "id": "b0fa49e9-d626-486d-bfcc-448e4a402f42",
   "metadata": {},
   "outputs": [
    {
     "data": {
      "text/plain": [
       "2"
      ]
     },
     "execution_count": 10,
     "metadata": {},
     "output_type": "execute_result"
    }
   ],
   "source": [
    "next(it)"
   ]
  },
  {
   "cell_type": "code",
   "execution_count": 11,
   "id": "59eb0245-d6af-4c14-ad88-510180fb2a1a",
   "metadata": {},
   "outputs": [
    {
     "data": {
      "text/plain": [
       "4"
      ]
     },
     "execution_count": 11,
     "metadata": {},
     "output_type": "execute_result"
    }
   ],
   "source": [
    "next(it)"
   ]
  },
  {
   "cell_type": "code",
   "execution_count": 12,
   "id": "f7936cbb-7758-4208-8966-aa031bbcb463",
   "metadata": {},
   "outputs": [
    {
     "data": {
      "text/plain": [
       "6"
      ]
     },
     "execution_count": 12,
     "metadata": {},
     "output_type": "execute_result"
    }
   ],
   "source": [
    "next(it)"
   ]
  },
  {
   "cell_type": "code",
   "execution_count": 13,
   "id": "f4214243-5e24-43b5-9054-67ce6a60dcef",
   "metadata": {},
   "outputs": [
    {
     "data": {
      "text/plain": [
       "8"
      ]
     },
     "execution_count": 13,
     "metadata": {},
     "output_type": "execute_result"
    }
   ],
   "source": [
    "next(it)"
   ]
  },
  {
   "cell_type": "code",
   "execution_count": 14,
   "id": "f8381048-0142-4d62-a504-5f3e5010112a",
   "metadata": {},
   "outputs": [
    {
     "data": {
      "text/plain": [
       "10"
      ]
     },
     "execution_count": 14,
     "metadata": {},
     "output_type": "execute_result"
    }
   ],
   "source": [
    "next(it)"
   ]
  },
  {
   "cell_type": "code",
   "execution_count": 15,
   "id": "079012bf-ba37-4258-a7c8-d78796e2b980",
   "metadata": {},
   "outputs": [
    {
     "data": {
      "text/plain": [
       "'\\nA generator function in Python is defined like \\na normal function, but whenever it needs to \\ngenerate a value, it does so with the yield keyword\\nrather than return. If the body of a def contains yield, \\nthe function \\nautomatically becomes a \\nPython generator function. \\n'"
      ]
     },
     "execution_count": 15,
     "metadata": {},
     "output_type": "execute_result"
    }
   ],
   "source": [
    "#Q4\n",
    "'''\n",
    "A generator function in Python is defined like \n",
    "a normal function, but whenever it needs to \n",
    "generate a value, it does so with the yield keyword\n",
    "rather than return. If the body of a def contains yield, \n",
    "the function \n",
    "automatically becomes a \n",
    "Python generator function. \n",
    "'''\n"
   ]
  },
  {
   "cell_type": "code",
   "execution_count": 36,
   "id": "2fb83e78-bb03-49be-a284-84988bca502b",
   "metadata": {},
   "outputs": [],
   "source": [
    "# yield keyword is used to create a generator function\n",
    "# a generator function generates output one by one instead\n",
    "# of storing the entire output and then sending it\n",
    "# generator function to generate even numbers \n",
    "def even(n):\n",
    "    for i in range(n):\n",
    "        if i%2==0:\n",
    "            yield i"
   ]
  },
  {
   "cell_type": "code",
   "execution_count": 37,
   "id": "5aea8c16-5492-4c8a-8557-4bfd6ec72cb0",
   "metadata": {},
   "outputs": [
    {
     "name": "stdout",
     "output_type": "stream",
     "text": [
      "0\n",
      "2\n",
      "4\n",
      "6\n",
      "8\n",
      "10\n",
      "12\n",
      "14\n",
      "16\n",
      "18\n",
      "20\n"
     ]
    }
   ],
   "source": [
    "for i in even(21):\n",
    "    print(i)"
   ]
  },
  {
   "cell_type": "code",
   "execution_count": 38,
   "id": "83c1fce6-d2a4-4e74-b704-9e96ffaa5f1b",
   "metadata": {},
   "outputs": [],
   "source": [
    "e = even(21)"
   ]
  },
  {
   "cell_type": "code",
   "execution_count": 39,
   "id": "a3d06e73-a4b4-4dc1-9e4f-58701aa56d7d",
   "metadata": {},
   "outputs": [
    {
     "data": {
      "text/plain": [
       "generator"
      ]
     },
     "execution_count": 39,
     "metadata": {},
     "output_type": "execute_result"
    }
   ],
   "source": [
    "type(e)"
   ]
  },
  {
   "cell_type": "code",
   "execution_count": 40,
   "id": "7579631f-11fb-4f84-8bf2-a7074fa1f18c",
   "metadata": {},
   "outputs": [
    {
     "name": "stdout",
     "output_type": "stream",
     "text": [
      "0,2,4,6,8,10,12,14,16,18,20,"
     ]
    }
   ],
   "source": [
    "for i in e:\n",
    "    print(i,end=\",\")"
   ]
  },
  {
   "cell_type": "code",
   "execution_count": 48,
   "id": "416b5274-a24d-454d-a8aa-8ba0b62073d4",
   "metadata": {},
   "outputs": [],
   "source": [
    "#Q5\n",
    "def prime_gen():\n",
    "    prime=2\n",
    "    while prime<1000:\n",
    "        isPrime=True\n",
    "        for i in range(2,prime):\n",
    "            if prime%i==0:\n",
    "                isPrime=False\n",
    "                break\n",
    "        if isPrime==True:\n",
    "            yield prime\n",
    "        prime+=1                "
   ]
  },
  {
   "cell_type": "code",
   "execution_count": 49,
   "id": "1e7b994f-39f5-4517-8fb6-9d65257d9d4b",
   "metadata": {},
   "outputs": [],
   "source": [
    "g = prime_gen()"
   ]
  },
  {
   "cell_type": "code",
   "execution_count": 50,
   "id": "0517587e-f4d1-49d9-92c6-0d5fcb9cd369",
   "metadata": {},
   "outputs": [
    {
     "name": "stdout",
     "output_type": "stream",
     "text": [
      "2\n",
      "3\n",
      "5\n",
      "7\n",
      "11\n",
      "13\n",
      "17\n",
      "19\n",
      "23\n",
      "29\n",
      "31\n",
      "37\n",
      "41\n",
      "43\n",
      "47\n",
      "53\n",
      "59\n",
      "61\n",
      "67\n",
      "71\n"
     ]
    }
   ],
   "source": [
    "for i in range(20):\n",
    "    print(next(g))"
   ]
  },
  {
   "cell_type": "code",
   "execution_count": 76,
   "id": "d210e992-65fb-4a6b-897b-0da0bee4c3c7",
   "metadata": {},
   "outputs": [
    {
     "name": "stdout",
     "output_type": "stream",
     "text": [
      "0 ,1 ,1 ,2 ,3 ,5 ,8 ,13 ,21 ,34 ,"
     ]
    }
   ],
   "source": [
    "#Q6\n",
    "count =1\n",
    "a=0\n",
    "b=1\n",
    "while(count<11):\n",
    "    print(a,end=\" ,\")\n",
    "    a,b = b,a+b\n",
    "    count+=1"
   ]
  },
  {
   "cell_type": "code",
   "execution_count": 77,
   "id": "229fbd20-9cdd-499f-be2a-090568248970",
   "metadata": {},
   "outputs": [],
   "source": [
    "#Q7\n",
    "s = \"pwskills\"\n",
    "l = []\n",
    "l.extend(s)"
   ]
  },
  {
   "cell_type": "code",
   "execution_count": 53,
   "id": "bc1919fa-b944-4a62-929e-d27b71fccb9a",
   "metadata": {},
   "outputs": [
    {
     "data": {
      "text/plain": [
       "['p', 'w', 's', 'k', 'i', 'l', 'l', 's']"
      ]
     },
     "execution_count": 53,
     "metadata": {},
     "output_type": "execute_result"
    }
   ],
   "source": [
    "l"
   ]
  },
  {
   "cell_type": "code",
   "execution_count": 65,
   "id": "70fb0f53-c833-4bf0-ad20-61c368329bbe",
   "metadata": {},
   "outputs": [
    {
     "name": "stdin",
     "output_type": "stream",
     "text": [
      "Enter a number 1331\n"
     ]
    },
    {
     "name": "stdout",
     "output_type": "stream",
     "text": [
      "The number is a palindrome\n"
     ]
    }
   ],
   "source": [
    "#Q8\n",
    "n = int(input(\"Enter a number\"))\n",
    "num =n\n",
    "rev=0\n",
    "rem=0\n",
    "while(n>0):\n",
    "    rem = n%10\n",
    "    rev=rev*10+rem\n",
    "    n//=10\n",
    "if rev==num:\n",
    "    print(\"The number is a palindrome\")\n",
    "else:\n",
    "    print(\"The number is not a palindrome\")"
   ]
  },
  {
   "cell_type": "code",
   "execution_count": 66,
   "id": "7fde7def-0cce-490b-9430-c14d3ee5b009",
   "metadata": {},
   "outputs": [],
   "source": [
    "#Q9\n",
    "numbers = [i for i in range(1,101)]\n",
    "odd_numbers = [i for i in numbers if i%2]"
   ]
  },
  {
   "cell_type": "code",
   "execution_count": 67,
   "id": "9b955f5d-557d-42e4-a108-7337ad397dcf",
   "metadata": {},
   "outputs": [
    {
     "data": {
      "text/plain": [
       "[1,\n",
       " 2,\n",
       " 3,\n",
       " 4,\n",
       " 5,\n",
       " 6,\n",
       " 7,\n",
       " 8,\n",
       " 9,\n",
       " 10,\n",
       " 11,\n",
       " 12,\n",
       " 13,\n",
       " 14,\n",
       " 15,\n",
       " 16,\n",
       " 17,\n",
       " 18,\n",
       " 19,\n",
       " 20,\n",
       " 21,\n",
       " 22,\n",
       " 23,\n",
       " 24,\n",
       " 25,\n",
       " 26,\n",
       " 27,\n",
       " 28,\n",
       " 29,\n",
       " 30,\n",
       " 31,\n",
       " 32,\n",
       " 33,\n",
       " 34,\n",
       " 35,\n",
       " 36,\n",
       " 37,\n",
       " 38,\n",
       " 39,\n",
       " 40,\n",
       " 41,\n",
       " 42,\n",
       " 43,\n",
       " 44,\n",
       " 45,\n",
       " 46,\n",
       " 47,\n",
       " 48,\n",
       " 49,\n",
       " 50,\n",
       " 51,\n",
       " 52,\n",
       " 53,\n",
       " 54,\n",
       " 55,\n",
       " 56,\n",
       " 57,\n",
       " 58,\n",
       " 59,\n",
       " 60,\n",
       " 61,\n",
       " 62,\n",
       " 63,\n",
       " 64,\n",
       " 65,\n",
       " 66,\n",
       " 67,\n",
       " 68,\n",
       " 69,\n",
       " 70,\n",
       " 71,\n",
       " 72,\n",
       " 73,\n",
       " 74,\n",
       " 75,\n",
       " 76,\n",
       " 77,\n",
       " 78,\n",
       " 79,\n",
       " 80,\n",
       " 81,\n",
       " 82,\n",
       " 83,\n",
       " 84,\n",
       " 85,\n",
       " 86,\n",
       " 87,\n",
       " 88,\n",
       " 89,\n",
       " 90,\n",
       " 91,\n",
       " 92,\n",
       " 93,\n",
       " 94,\n",
       " 95,\n",
       " 96,\n",
       " 97,\n",
       " 98,\n",
       " 99,\n",
       " 100]"
      ]
     },
     "execution_count": 67,
     "metadata": {},
     "output_type": "execute_result"
    }
   ],
   "source": [
    "numbers"
   ]
  },
  {
   "cell_type": "code",
   "execution_count": 68,
   "id": "56a961ae-3899-4815-8b28-65223c0d9120",
   "metadata": {},
   "outputs": [
    {
     "data": {
      "text/plain": [
       "[1,\n",
       " 3,\n",
       " 5,\n",
       " 7,\n",
       " 9,\n",
       " 11,\n",
       " 13,\n",
       " 15,\n",
       " 17,\n",
       " 19,\n",
       " 21,\n",
       " 23,\n",
       " 25,\n",
       " 27,\n",
       " 29,\n",
       " 31,\n",
       " 33,\n",
       " 35,\n",
       " 37,\n",
       " 39,\n",
       " 41,\n",
       " 43,\n",
       " 45,\n",
       " 47,\n",
       " 49,\n",
       " 51,\n",
       " 53,\n",
       " 55,\n",
       " 57,\n",
       " 59,\n",
       " 61,\n",
       " 63,\n",
       " 65,\n",
       " 67,\n",
       " 69,\n",
       " 71,\n",
       " 73,\n",
       " 75,\n",
       " 77,\n",
       " 79,\n",
       " 81,\n",
       " 83,\n",
       " 85,\n",
       " 87,\n",
       " 89,\n",
       " 91,\n",
       " 93,\n",
       " 95,\n",
       " 97,\n",
       " 99]"
      ]
     },
     "execution_count": 68,
     "metadata": {},
     "output_type": "execute_result"
    }
   ],
   "source": [
    "odd_numbers"
   ]
  },
  {
   "cell_type": "code",
   "execution_count": null,
   "id": "a3de3701-329a-4780-8af1-deca321b8e0f",
   "metadata": {},
   "outputs": [],
   "source": []
  }
 ],
 "metadata": {
  "kernelspec": {
   "display_name": "Python 3 (ipykernel)",
   "language": "python",
   "name": "python3"
  },
  "language_info": {
   "codemirror_mode": {
    "name": "ipython",
    "version": 3
   },
   "file_extension": ".py",
   "mimetype": "text/x-python",
   "name": "python",
   "nbconvert_exporter": "python",
   "pygments_lexer": "ipython3",
   "version": "3.10.8"
  }
 },
 "nbformat": 4,
 "nbformat_minor": 5
}
