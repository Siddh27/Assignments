{
 "cells": [
  {
   "cell_type": "code",
   "execution_count": 1,
   "id": "41ede558-a296-4060-a0af-0996062a893e",
   "metadata": {},
   "outputs": [
    {
     "data": {
      "text/plain": [
       "'\\nPython provides an in-built feature called\\ndocstrings for commenting on modules, \\nmethods, functions, objects, and classes. \\nThey are written in the first line after defining a module, \\nfunction, method, etc.,\\nusing three quotation marks (‘’ or “”). \\n'"
      ]
     },
     "execution_count": 1,
     "metadata": {},
     "output_type": "execute_result"
    }
   ],
   "source": [
    "# Q1\n",
    "# There are three types of comments\n",
    "# Single Line\n",
    "# Multi Line\n",
    "# DocString comments\n",
    "\n",
    "# Single Line\n",
    "# These are denoted by # symbol\n",
    "\n",
    "#Multiline Comments\n",
    "''' This is an \n",
    "example of a\n",
    "multiline comment\n",
    "'''\n",
    "\n",
    "\"\"\"\n",
    "This is also an \n",
    "example of a \n",
    "multiline comment\n",
    "\"\"\"\n",
    "\n",
    "# Docstring Comments\n",
    "'''\n",
    "Python provides an in-built feature called\n",
    "docstrings for commenting on modules, \n",
    "methods, functions, objects, and classes. \n",
    "They are written in the first line after defining a module, \n",
    "function, method, etc.,\n",
    "using three quotation marks (‘’ or “”). \n",
    "'''"
   ]
  },
  {
   "cell_type": "code",
   "execution_count": 2,
   "id": "33d2befb-fc12-4273-bf42-611042740411",
   "metadata": {},
   "outputs": [
    {
     "name": "stdout",
     "output_type": "stream",
     "text": [
      "<class 'int'>\n"
     ]
    },
    {
     "data": {
      "text/plain": [
       "9"
      ]
     },
     "execution_count": 2,
     "metadata": {},
     "output_type": "execute_result"
    }
   ],
   "source": [
    "#Q2\n",
    "'''\n",
    "Python variable is stores the memory location of the object created\n",
    "it is the basic unit of storing data\n",
    "'''\n",
    "# Declaring Variables\n",
    "var= 9\n",
    "print(type(var))\n",
    "var"
   ]
  },
  {
   "cell_type": "code",
   "execution_count": 7,
   "id": "3981de00-c7ec-41ea-85e3-3aa0e350db35",
   "metadata": {},
   "outputs": [
    {
     "name": "stdout",
     "output_type": "stream",
     "text": [
      "<class 'float'>\n",
      "<class 'int'>\n",
      "<class 'str'>\n",
      "<class 'int'>\n"
     ]
    }
   ],
   "source": [
    "#Q3\n",
    "# we can convert one data type tp another data type using type casting\n",
    "f =2.13\n",
    "print(type(f))\n",
    "f = int(f)\n",
    "print(type(f))\n",
    "ch = '10'\n",
    "print(type(ch))\n",
    "ch = int(ch)\n",
    "print(type(ch))"
   ]
  },
  {
   "cell_type": "code",
   "execution_count": 1,
   "id": "55f604aa-b0dc-4395-b02c-bb76be92aa91",
   "metadata": {},
   "outputs": [],
   "source": [
    "l = [1,2,'siddh',27.99,True,[1,2,3],2+3j]"
   ]
  },
  {
   "cell_type": "code",
   "execution_count": 2,
   "id": "bbdc0601-ef14-4285-bf57-92298c34035b",
   "metadata": {},
   "outputs": [
    {
     "name": "stdout",
     "output_type": "stream",
     "text": [
      "1\n",
      "<class 'int'>\n",
      "2\n",
      "<class 'int'>\n",
      "siddh\n",
      "<class 'str'>\n",
      "27.99\n",
      "<class 'float'>\n",
      "True\n",
      "<class 'bool'>\n",
      "[1, 2, 3]\n",
      "<class 'list'>\n",
      "(2+3j)\n",
      "<class 'complex'>\n"
     ]
    }
   ],
   "source": [
    "for i in l:\n",
    "    print(i)\n",
    "    print(type(i))"
   ]
  },
  {
   "cell_type": "code",
   "execution_count": 7,
   "id": "c0f239b4-4ebd-41e1-a2e8-3d8b3010489d",
   "metadata": {},
   "outputs": [
    {
     "name": "stdin",
     "output_type": "stream",
     "text": [
      "Enter the number A 54\n",
      "enter the number B 3\n"
     ]
    },
    {
     "name": "stdout",
     "output_type": "stream",
     "text": [
      "a is divisible by b 3 times\n"
     ]
    }
   ],
   "source": [
    "a = int(input(\"Enter the number A\"))\n",
    "b = int(input(\"enter the number B\"))\n",
    "if(a%b==0):\n",
    "        count=0;\n",
    "        while(a%b==0):\n",
    "            count+=1\n",
    "            a/=b\n",
    "        print(\"a is divisible by b\",count,\"times\")\n",
    "else:\n",
    "    print(\"a is not divisible by b\")\n",
    "        "
   ]
  },
  {
   "cell_type": "code",
   "execution_count": 8,
   "id": "b633bbb9-8af8-411a-8d38-4e13da02623b",
   "metadata": {},
   "outputs": [],
   "source": [
    "l = list(range(1,26))"
   ]
  },
  {
   "cell_type": "code",
   "execution_count": 10,
   "id": "36d8f94e-0eec-4a44-b4cb-da41132e2de7",
   "metadata": {},
   "outputs": [
    {
     "name": "stdout",
     "output_type": "stream",
     "text": [
      "1 is not divisible by 3\n",
      "2 is not divisible by 3\n",
      "3 is divisilbe by 3\n",
      "4 is not divisible by 3\n",
      "5 is not divisible by 3\n",
      "6 is divisilbe by 3\n",
      "7 is not divisible by 3\n",
      "8 is not divisible by 3\n",
      "9 is divisilbe by 3\n",
      "10 is not divisible by 3\n",
      "11 is not divisible by 3\n",
      "12 is divisilbe by 3\n",
      "13 is not divisible by 3\n",
      "14 is not divisible by 3\n",
      "15 is divisilbe by 3\n",
      "16 is not divisible by 3\n",
      "17 is not divisible by 3\n",
      "18 is divisilbe by 3\n",
      "19 is not divisible by 3\n",
      "20 is not divisible by 3\n",
      "21 is divisilbe by 3\n",
      "22 is not divisible by 3\n",
      "23 is not divisible by 3\n",
      "24 is divisilbe by 3\n",
      "25 is not divisible by 3\n"
     ]
    }
   ],
   "source": [
    "for i in l:\n",
    "    if(i%3==0):\n",
    "        print(i,\"is divisilbe by 3\")\n",
    "    else:\n",
    "        print(i,\"is not divisible by 3\")"
   ]
  },
  {
   "cell_type": "code",
   "execution_count": 11,
   "id": "93bbb589-f454-4046-956e-ecdd49b35613",
   "metadata": {},
   "outputs": [
    {
     "data": {
      "text/plain": [
       "\" Strings and lists both have indexing\\nbut you cannot change any specific character at the index like\\nstr[2] = 'a' you will have to overrite the entire string with the changes\\nhence strings are immutable\\nbut you can change the values of lists at a certain index\\nhence lists are mutable\\nPls check the below example\\n\""
      ]
     },
     "execution_count": 11,
     "metadata": {},
     "output_type": "execute_result"
    }
   ],
   "source": [
    "''' Strings and lists both have indexing\n",
    "but you cannot change any specific character at the index like\n",
    "str[2] = 'a' you will have to overrite the entire string with the changes\n",
    "hence strings are immutable\n",
    "but you can change the values of lists at a certain index\n",
    "hence lists are mutable\n",
    "Pls check the below example\n",
    "'''"
   ]
  },
  {
   "cell_type": "code",
   "execution_count": 12,
   "id": "648ce21b-a7ce-4721-9699-e157528aab59",
   "metadata": {},
   "outputs": [],
   "source": [
    "name = 'siddh'"
   ]
  },
  {
   "cell_type": "code",
   "execution_count": 13,
   "id": "7479e8d4-99ba-4e69-8021-4918822e7ee3",
   "metadata": {},
   "outputs": [
    {
     "ename": "TypeError",
     "evalue": "'str' object does not support item assignment",
     "output_type": "error",
     "traceback": [
      "\u001b[0;31m---------------------------------------------------------------------------\u001b[0m",
      "\u001b[0;31mTypeError\u001b[0m                                 Traceback (most recent call last)",
      "Cell \u001b[0;32mIn[13], line 1\u001b[0m\n\u001b[0;32m----> 1\u001b[0m \u001b[43mname\u001b[49m\u001b[43m[\u001b[49m\u001b[38;5;241;43m0\u001b[39;49m\u001b[43m]\u001b[49m\u001b[38;5;241m=\u001b[39m\u001b[38;5;124m'\u001b[39m\u001b[38;5;124mi\u001b[39m\u001b[38;5;124m'\u001b[39m\n",
      "\u001b[0;31mTypeError\u001b[0m: 'str' object does not support item assignment"
     ]
    }
   ],
   "source": [
    "name[0]='i'"
   ]
  },
  {
   "cell_type": "code",
   "execution_count": 14,
   "id": "f600e43f-8eec-47b3-bc36-faeb0333841e",
   "metadata": {},
   "outputs": [],
   "source": [
    "l = [1,2,3]"
   ]
  },
  {
   "cell_type": "code",
   "execution_count": 15,
   "id": "8e76c3f3-573c-431c-85fc-b60dada7f78a",
   "metadata": {},
   "outputs": [],
   "source": [
    "l[0] = 9"
   ]
  },
  {
   "cell_type": "code",
   "execution_count": 16,
   "id": "16c8c8e7-7175-4b5c-a41a-dd555ff5630d",
   "metadata": {},
   "outputs": [
    {
     "data": {
      "text/plain": [
       "[9, 2, 3]"
      ]
     },
     "execution_count": 16,
     "metadata": {},
     "output_type": "execute_result"
    }
   ],
   "source": [
    "l"
   ]
  },
  {
   "cell_type": "code",
   "execution_count": null,
   "id": "4e48661a-2cd8-40eb-a90f-405e65fda763",
   "metadata": {},
   "outputs": [],
   "source": []
  }
 ],
 "metadata": {
  "kernelspec": {
   "display_name": "Python 3 (ipykernel)",
   "language": "python",
   "name": "python3"
  },
  "language_info": {
   "codemirror_mode": {
    "name": "ipython",
    "version": 3
   },
   "file_extension": ".py",
   "mimetype": "text/x-python",
   "name": "python",
   "nbconvert_exporter": "python",
   "pygments_lexer": "ipython3",
   "version": "3.10.8"
  }
 },
 "nbformat": 4,
 "nbformat_minor": 5
}
