{
 "cells": [
  {
   "cell_type": "code",
   "execution_count": 1,
   "id": "ce802168-8d4e-4ffc-9b56-0f9477cdc81a",
   "metadata": {},
   "outputs": [
    {
     "name": "stdout",
     "output_type": "stream",
     "text": [
      "Area is 12.566370614359172\n",
      "Area is 6\n"
     ]
    }
   ],
   "source": [
    "#Q1\n",
    "'''\n",
    "Abstraction in python is defined as a process of handling complexity by hiding \n",
    "unnecessary information from the user. This is one of the core concepts of object-oriented\n",
    "programming (OOP) languages. That enables the user to implement even more complex logic on \n",
    "top of the provided abstraction without understanding or even thinking about all the hidden\n",
    "background/back-end complexity.\n",
    "'''\n",
    "import abc\n",
    "import math\n",
    "class Shape:\n",
    "    @abc.abstractclassmethod\n",
    "    def calculateArea():\n",
    "        pass\n",
    "class Circle(Shape):\n",
    "    def calculateArea(self,r):\n",
    "        print('Area is',math.pi*r*r)\n",
    "class Rectangle(Shape):\n",
    "    def calculateArea(self,a,b):\n",
    "        print('Area is',a*b)\n",
    "c = Circle()\n",
    "c.calculateArea(2)\n",
    "r = Rectangle()\n",
    "r.calculateArea(2,3)"
   ]
  },
  {
   "cell_type": "code",
   "execution_count": 2,
   "id": "514c7d0e-20bf-4b5e-88be-7b3c7c8cf1d9",
   "metadata": {},
   "outputs": [
    {
     "data": {
      "text/plain": [
       "'\\nAbstraction\\n\\t\\nIt helps hide the unwanted details/information.\\nThe complexities of the implementation are hidden using \\nabstract class\\nAbstraction can be performed using objects \\nthat are encapsulated within a single module\\n\\nEncapsulation\\nIt is a method that helps wrap up data into a single module.\\nIt helps hide data using a single entity, or using a unit with the help of method \\nthat helps protect the information.\\nIt can be implemented using access \\nmodifiers like public, private and protected.\\nThe data is hidden using methods such as getters and setters.\\n'"
      ]
     },
     "execution_count": 2,
     "metadata": {},
     "output_type": "execute_result"
    }
   ],
   "source": [
    "#Q2\n",
    "'''\n",
    "Abstraction\n",
    "\t\n",
    "It helps hide the unwanted details/information.\n",
    "The complexities of the implementation are hidden using \n",
    "abstract class\n",
    "Abstraction can be performed using objects \n",
    "that are encapsulated within a single module\n",
    "\n",
    "Encapsulation\n",
    "It is a method that helps wrap up data into a single module.\n",
    "It helps hide data using a single entity, or using a unit with the help of method \n",
    "that helps protect the information.\n",
    "It can be implemented using access \n",
    "modifiers like public, private and protected.\n",
    "The data is hidden using methods such as getters and setters.\n",
    "'''"
   ]
  },
  {
   "cell_type": "code",
   "execution_count": 3,
   "id": "e0cf3803-782f-4db0-b4ef-e51ef28a5b52",
   "metadata": {},
   "outputs": [
    {
     "data": {
      "text/plain": [
       "'\\nPython has a module called abc (abstract base class)\\nthat offers the necessary tools for crafting an abstract\\nbase class. \\nWe can decorate a function by @abc.abstractclassmethod\\nto make the function abstract\\nAll the abstract functions must be overrriden by the child\\nclass that inherits them\\n'"
      ]
     },
     "execution_count": 3,
     "metadata": {},
     "output_type": "execute_result"
    }
   ],
   "source": [
    "#Q3\n",
    "'''\n",
    "Python has a module called abc (abstract base class)\n",
    "that offers the necessary tools for crafting an abstract\n",
    "base class. \n",
    "We can decorate a function by @abc.abstractclassmethod\n",
    "to make the function abstract\n",
    "All the abstract functions must be overrriden by the child\n",
    "class that inherits them\n",
    "'''"
   ]
  },
  {
   "cell_type": "code",
   "execution_count": 4,
   "id": "54b1ad13-7d61-4f9d-af47-ea1410587bce",
   "metadata": {},
   "outputs": [
    {
     "data": {
      "text/plain": [
       "'\\nExplained using Q1 and Q3\\n'"
      ]
     },
     "execution_count": 4,
     "metadata": {},
     "output_type": "execute_result"
    }
   ],
   "source": [
    "#Q4\n",
    "'''\n",
    "Explained using Q1 and Q3\n",
    "'''"
   ]
  },
  {
   "cell_type": "code",
   "execution_count": null,
   "id": "053d36f8-b13c-4a08-aff3-442ce8039db5",
   "metadata": {},
   "outputs": [],
   "source": [
    "#Q5\n",
    "'''\n",
    "No we cannot create the instance of the class since Abstract classes are not complete,\n",
    "as they may have some methods that are not defined.\n"
   ]
  }
 ],
 "metadata": {
  "kernelspec": {
   "display_name": "Python 3 (ipykernel)",
   "language": "python",
   "name": "python3"
  },
  "language_info": {
   "codemirror_mode": {
    "name": "ipython",
    "version": 3
   },
   "file_extension": ".py",
   "mimetype": "text/x-python",
   "name": "python",
   "nbconvert_exporter": "python",
   "pygments_lexer": "ipython3",
   "version": "3.10.8"
  }
 },
 "nbformat": 4,
 "nbformat_minor": 5
}
