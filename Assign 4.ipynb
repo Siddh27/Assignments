{
 "cells": [
  {
   "cell_type": "code",
   "execution_count": 44,
   "id": "e9cff09c-31fd-4ba9-a1fa-f40c4d0a68c8",
   "metadata": {},
   "outputs": [],
   "source": [
    "#Q1\n",
    "l = [('Sachin Tendulkar', 34357), ('Ricky Ponting', 27483), ('Jack Kallis', 25534), ('Virat Kohli', 24936)]"
   ]
  },
  {
   "cell_type": "code",
   "execution_count": 45,
   "id": "4d938ed1-6811-44d6-8749-9dc6f4c86b46",
   "metadata": {},
   "outputs": [
    {
     "data": {
      "text/plain": [
       "[('Sachin Tendulkar', 34357),\n",
       " ('Ricky Ponting', 27483),\n",
       " ('Jack Kallis', 25534),\n",
       " ('Virat Kohli', 24936)]"
      ]
     },
     "execution_count": 45,
     "metadata": {},
     "output_type": "execute_result"
    }
   ],
   "source": [
    "l"
   ]
  },
  {
   "cell_type": "code",
   "execution_count": 47,
   "id": "9d5263a3-49e8-4abf-a276-ffc1e214f6c7",
   "metadata": {},
   "outputs": [],
   "source": [
    "l.sort(key=lambda x:x[1])"
   ]
  },
  {
   "cell_type": "code",
   "execution_count": 48,
   "id": "1a1639fa-9179-4174-8b0f-b9367e067dc8",
   "metadata": {},
   "outputs": [
    {
     "data": {
      "text/plain": [
       "[('Virat Kohli', 24936),\n",
       " ('Jack Kallis', 25534),\n",
       " ('Ricky Ponting', 27483),\n",
       " ('Sachin Tendulkar', 34357)]"
      ]
     },
     "execution_count": 48,
     "metadata": {},
     "output_type": "execute_result"
    }
   ],
   "source": [
    "l"
   ]
  },
  {
   "cell_type": "code",
   "execution_count": 3,
   "id": "003389d3-676b-42b2-b39d-d4e243ef4aea",
   "metadata": {},
   "outputs": [],
   "source": [
    "#Q2\n",
    "numbers = [i for i in range(1,11)]"
   ]
  },
  {
   "cell_type": "code",
   "execution_count": 5,
   "id": "3108a69b-9910-4895-a697-fdbf2268dd53",
   "metadata": {},
   "outputs": [],
   "source": [
    "ans =  list(map(lambda x:x**2,numbers))"
   ]
  },
  {
   "cell_type": "code",
   "execution_count": 6,
   "id": "bfb3bbf8-eeb6-4c5d-8cb7-8ba28afb83ef",
   "metadata": {},
   "outputs": [
    {
     "data": {
      "text/plain": [
       "[1, 4, 9, 16, 25, 36, 49, 64, 81, 100]"
      ]
     },
     "execution_count": 6,
     "metadata": {},
     "output_type": "execute_result"
    }
   ],
   "source": [
    "ans"
   ]
  },
  {
   "cell_type": "code",
   "execution_count": 2,
   "id": "8bbd263c-1fe9-4256-8beb-0fe42cb4a7dc",
   "metadata": {},
   "outputs": [],
   "source": [
    "#Q3\n",
    "numbers = [1, 2, 3, 4, 5, 6, 7, 8, 9, 10]"
   ]
  },
  {
   "cell_type": "code",
   "execution_count": 3,
   "id": "c341021f-1b5c-4d95-8442-af8723d17c49",
   "metadata": {},
   "outputs": [],
   "source": [
    "t = tuple(map(lambda x: str(x),numbers))"
   ]
  },
  {
   "cell_type": "code",
   "execution_count": 4,
   "id": "a0d3aeb0-119b-4e04-95dc-e64681b250f9",
   "metadata": {},
   "outputs": [
    {
     "data": {
      "text/plain": [
       "('1', '2', '3', '4', '5', '6', '7', '8', '9', '10')"
      ]
     },
     "execution_count": 4,
     "metadata": {},
     "output_type": "execute_result"
    }
   ],
   "source": [
    "t"
   ]
  },
  {
   "cell_type": "code",
   "execution_count": 7,
   "id": "209db9c7-bb20-4057-8d3a-3c152c126f01",
   "metadata": {},
   "outputs": [
    {
     "data": {
      "text/plain": [
       "[1,\n",
       " 2,\n",
       " 3,\n",
       " 4,\n",
       " 5,\n",
       " 6,\n",
       " 7,\n",
       " 8,\n",
       " 9,\n",
       " 10,\n",
       " 11,\n",
       " 12,\n",
       " 13,\n",
       " 14,\n",
       " 15,\n",
       " 16,\n",
       " 17,\n",
       " 18,\n",
       " 19,\n",
       " 20,\n",
       " 21,\n",
       " 22,\n",
       " 23,\n",
       " 24,\n",
       " 25]"
      ]
     },
     "execution_count": 7,
     "metadata": {},
     "output_type": "execute_result"
    }
   ],
   "source": [
    "#Q4\n",
    "nums = [i for i in range(1,26)]\n",
    "nums"
   ]
  },
  {
   "cell_type": "code",
   "execution_count": 8,
   "id": "98f76964-4569-4591-8d1d-2a5ea7b5cd65",
   "metadata": {},
   "outputs": [],
   "source": [
    "from functools import reduce"
   ]
  },
  {
   "cell_type": "code",
   "execution_count": 10,
   "id": "1075209c-0126-481f-84d3-7ab7bbca3f7c",
   "metadata": {},
   "outputs": [],
   "source": [
    "product = reduce(lambda x,y:x*y,nums)"
   ]
  },
  {
   "cell_type": "code",
   "execution_count": 11,
   "id": "04fd15ad-f1a4-481d-87e0-02f1ed0d3ca0",
   "metadata": {},
   "outputs": [
    {
     "data": {
      "text/plain": [
       "15511210043330985984000000"
      ]
     },
     "execution_count": 11,
     "metadata": {},
     "output_type": "execute_result"
    }
   ],
   "source": [
    "product"
   ]
  },
  {
   "cell_type": "code",
   "execution_count": 20,
   "id": "099c1281-13cb-4f66-aaeb-5cff6607f3a6",
   "metadata": {},
   "outputs": [],
   "source": [
    "#Q5\n",
    "a = [2, 3, 6, 9, 27, 60, 90, 120, 55, 46]"
   ]
  },
  {
   "cell_type": "code",
   "execution_count": 21,
   "id": "4a5d961c-8626-47c3-ad0f-2cf1704e419a",
   "metadata": {},
   "outputs": [],
   "source": [
    "def check(x):\n",
    "    if x%2==0 and x%3==0:\n",
    "        return x"
   ]
  },
  {
   "cell_type": "code",
   "execution_count": 24,
   "id": "1197e621-4e40-4b5f-ac18-8321354ee7a5",
   "metadata": {},
   "outputs": [],
   "source": [
    "l = list(filter(check,a))"
   ]
  },
  {
   "cell_type": "code",
   "execution_count": 25,
   "id": "a667ee68-e52d-4d58-8a9c-99ef994e3b73",
   "metadata": {},
   "outputs": [
    {
     "data": {
      "text/plain": [
       "[6, 60, 90, 120]"
      ]
     },
     "execution_count": 25,
     "metadata": {},
     "output_type": "execute_result"
    }
   ],
   "source": [
    "l"
   ]
  },
  {
   "cell_type": "code",
   "execution_count": 34,
   "id": "afddb120-6f79-4e37-a243-bce549a47154",
   "metadata": {},
   "outputs": [],
   "source": [
    "#Q6\n",
    "def palindrome(x):\n",
    "    rev = x[::-1]\n",
    "    if rev==x:\n",
    "        return x"
   ]
  },
  {
   "cell_type": "code",
   "execution_count": 35,
   "id": "8b00781a-a860-4258-9436-d2daf9eed112",
   "metadata": {},
   "outputs": [],
   "source": [
    "words = ['python', 'php', 'aba', 'radar', 'level']"
   ]
  },
  {
   "cell_type": "code",
   "execution_count": 36,
   "id": "d366a9d2-ad73-442f-b456-d1c785f0aa90",
   "metadata": {},
   "outputs": [],
   "source": [
    "palindromes = list(filter(palindrome,words))"
   ]
  },
  {
   "cell_type": "code",
   "execution_count": 37,
   "id": "ee4aae16-c76d-4d84-b6b0-18ddfcb415af",
   "metadata": {},
   "outputs": [
    {
     "data": {
      "text/plain": [
       "['php', 'aba', 'radar', 'level']"
      ]
     },
     "execution_count": 37,
     "metadata": {},
     "output_type": "execute_result"
    }
   ],
   "source": [
    "palindromes"
   ]
  },
  {
   "cell_type": "code",
   "execution_count": null,
   "id": "89a35c5b-4e51-4a5d-b9d1-e3dbd34109f5",
   "metadata": {},
   "outputs": [],
   "source": []
  }
 ],
 "metadata": {
  "kernelspec": {
   "display_name": "Python 3 (ipykernel)",
   "language": "python",
   "name": "python3"
  },
  "language_info": {
   "codemirror_mode": {
    "name": "ipython",
    "version": 3
   },
   "file_extension": ".py",
   "mimetype": "text/x-python",
   "name": "python",
   "nbconvert_exporter": "python",
   "pygments_lexer": "ipython3",
   "version": "3.10.8"
  }
 },
 "nbformat": 4,
 "nbformat_minor": 5
}
